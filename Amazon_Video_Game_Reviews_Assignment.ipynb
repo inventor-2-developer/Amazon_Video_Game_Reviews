{
  "cells": [
    {
      "cell_type": "markdown",
      "metadata": {
        "id": "view-in-github",
        "colab_type": "text"
      },
      "source": [
        "<a href=\"https://colab.research.google.com/github/inventor-2-developer/Amazon_Video_Game_Reviews/blob/main/Amazon_Video_Game_Reviews_Assignment.ipynb\" target=\"_parent\"><img src=\"https://colab.research.google.com/assets/colab-badge.svg\" alt=\"Open In Colab\"/></a>"
      ]
    },
    {
      "cell_type": "code",
      "execution_count": null,
      "metadata": {
        "colab": {
          "base_uri": "https://localhost:8080/"
        },
        "id": "mlUotDyk5aaP",
        "outputId": "81e86a22-8dbd-4104-c82b-5508087374c9"
      },
      "outputs": [
        {
          "name": "stdout",
          "output_type": "stream",
          "text": [
            "\r0% [Working]\r            \rGet:1 http://security.ubuntu.com/ubuntu bionic-security InRelease [88.7 kB]\n",
            "\r0% [Connecting to archive.ubuntu.com (91.189.91.38)] [1 InRelease 0 B/88.7 kB 0\r                                                                               \rGet:2 http://ppa.launchpad.net/c2d4u.team/c2d4u4.0+/ubuntu bionic InRelease [15.9 kB]\n",
            "\r0% [Connecting to archive.ubuntu.com (91.189.91.38)] [1 InRelease 14.2 kB/88.7 \r0% [Connecting to archive.ubuntu.com (91.189.91.38)] [1 InRelease 88.7 kB/88.7 \r0% [Connecting to archive.ubuntu.com (91.189.91.38)] [Waiting for headers] [Wai\r0% [2 InRelease gpgv 15.9 kB] [Connecting to archive.ubuntu.com (91.189.91.38)]\r                                                                               \rHit:3 http://ppa.launchpad.net/cran/libgit2/ubuntu bionic InRelease\n",
            "\r0% [2 InRelease gpgv 15.9 kB] [Connecting to archive.ubuntu.com (91.189.91.38)]\r                                                                               \rGet:4 https://cloud.r-project.org/bin/linux/ubuntu bionic-cran40/ InRelease [3,626 B]\n",
            "\r0% [2 InRelease gpgv 15.9 kB] [Connecting to archive.ubuntu.com (91.189.91.38)]\r0% [2 InRelease gpgv 15.9 kB] [Connecting to archive.ubuntu.com (91.189.91.38)]\r                                                                               \rHit:5 https://developer.download.nvidia.com/compute/cuda/repos/ubuntu1804/x86_64  InRelease\n",
            "\r0% [2 InRelease gpgv 15.9 kB] [Connecting to archive.ubuntu.com (91.189.91.38)]\r                                                                               \rGet:6 http://ppa.launchpad.net/deadsnakes/ppa/ubuntu bionic InRelease [15.9 kB]\n",
            "\r0% [2 InRelease gpgv 15.9 kB] [Connecting to archive.ubuntu.com (91.189.91.38)]\r0% [2 InRelease gpgv 15.9 kB] [Waiting for headers] [Connecting to ppa.launchpa\r                                                                               \rHit:7 http://ppa.launchpad.net/graphics-drivers/ppa/ubuntu bionic InRelease\n",
            "Hit:8 http://archive.ubuntu.com/ubuntu bionic InRelease\n",
            "Get:9 http://archive.ubuntu.com/ubuntu bionic-updates InRelease [88.7 kB]\n",
            "Get:10 http://ppa.launchpad.net/c2d4u.team/c2d4u4.0+/ubuntu bionic/main Sources [1,992 kB]\n",
            "Get:11 http://archive.ubuntu.com/ubuntu bionic-backports InRelease [74.6 kB]\n",
            "Get:12 http://ppa.launchpad.net/c2d4u.team/c2d4u4.0+/ubuntu bionic/main amd64 Packages [1,021 kB]\n",
            "Get:13 http://security.ubuntu.com/ubuntu bionic-security/universe amd64 Packages [1,512 kB]\n",
            "Ign:14 https://developer.download.nvidia.com/compute/machine-learning/repos/ubuntu1804/x86_64  InRelease\n",
            "Get:15 http://security.ubuntu.com/ubuntu bionic-security/main amd64 Packages [2,799 kB]\n",
            "Hit:16 https://developer.download.nvidia.com/compute/machine-learning/repos/ubuntu1804/x86_64  Release\n",
            "Get:17 http://ppa.launchpad.net/deadsnakes/ppa/ubuntu bionic/main amd64 Packages [45.3 kB]\n",
            "Get:18 http://archive.ubuntu.com/ubuntu bionic-updates/main amd64 Packages [3,231 kB]\n",
            "Get:19 http://archive.ubuntu.com/ubuntu bionic-updates/universe amd64 Packages [2,286 kB]\n",
            "Fetched 13.2 MB in 5s (2,478 kB/s)\n",
            "Reading package lists... Done\n"
          ]
        }
      ],
      "source": [
        "# Activate Spark in our Colab notebook.\n",
        "import os\n",
        "# Find the latest version of spark 3.0  from http://www.apache.org/dist/spark/ and enter as the spark version\n",
        "# For example: 'spark-3.2.2'\n",
        "spark_version = 'spark-3.2.2'\n",
        "# spark_version = 'spark-3.<enter version>'\n",
        "os.environ['SPARK_VERSION']=spark_version\n",
        "\n",
        "# Install Spark and Java\n",
        "!apt-get update\n",
        "!apt-get install openjdk-11-jdk-headless -qq > /dev/null\n",
        "!wget -q http://www.apache.org/dist/spark/$SPARK_VERSION/$SPARK_VERSION-bin-hadoop3.2.tgz\n",
        "!tar xf $SPARK_VERSION-bin-hadoop3.2.tgz\n",
        "!pip install -q findspark\n",
        "\n",
        "# Set Environment Variables\n",
        "os.environ[\"JAVA_HOME\"] = \"/usr/lib/jvm/java-11-openjdk-amd64\"\n",
        "os.environ[\"SPARK_HOME\"] = f\"/content/{spark_version}-bin-hadoop3.2\"\n",
        "\n",
        "# Start a SparkSession\n",
        "import findspark\n",
        "findspark.init()"
      ]
    },
    {
      "cell_type": "code",
      "execution_count": null,
      "metadata": {
        "id": "gXi1F80x5sXA"
      },
      "outputs": [],
      "source": [
        "from pyspark.sql import SparkSession\n",
        "spark = SparkSession.builder.appName(\"Spark-Homework\").getOrCreate()"
      ]
    },
    {
      "cell_type": "markdown",
      "metadata": {
        "id": "IGHmRcFb7YT1"
      },
      "source": [
        "## Load Amazon Vine Game Review Data into a Spark DataFrame"
      ]
    },
    {
      "cell_type": "code",
      "execution_count": null,
      "metadata": {
        "colab": {
          "base_uri": "https://localhost:8080/"
        },
        "id": "H_jt_P4B5yqp",
        "outputId": "fbae6ea6-c803-4a68-cb07-30fa4fea4087"
      },
      "outputs": [
        {
          "name": "stdout",
          "output_type": "stream",
          "text": [
            "+-----------+-----------+--------------+----------+--------------+--------------------+----------------+-----------+-------------+-----------+----+-----------------+--------------------+--------------------+-----------+\n",
            "|marketplace|customer_id|     review_id|product_id|product_parent|       product_title|product_category|star_rating|helpful_votes|total_votes|vine|verified_purchase|     review_headline|         review_body|review_date|\n",
            "+-----------+-----------+--------------+----------+--------------+--------------------+----------------+-----------+-------------+-----------+----+-----------------+--------------------+--------------------+-----------+\n",
            "|         US|   12039526| RTIS3L2M1F5SM|B001CXYMFS|     737716809|Thrustmaster T-Fl...|     Video Games|          5|            0|          0|   N|                Y|an amazing joysti...|Used this for Eli...| 2015-08-31|\n",
            "|         US|    9636577| R1ZV7R40OLHKD|B00M920ND6|     569686175|Tonsee 6 buttons ...|     Video Games|          5|            0|          0|   N|                Y|Definitely a sile...|Loved it,  I didn...| 2015-08-31|\n",
            "|         US|    2331478|R3BH071QLH8QMC|B0029CSOD2|      98937668|Hidden Mysteries:...|     Video Games|          1|            0|          1|   N|                Y|            One Star|poor quality work...| 2015-08-31|\n",
            "|         US|   52495923|R127K9NTSXA2YH|B00GOOSV98|      23143350|GelTabz Performan...|     Video Games|          3|            0|          0|   N|                Y|good, but could b...|nice, but tend to...| 2015-08-31|\n",
            "|         US|   14533949|R32ZWUXDJPW27Q|B00Y074JOM|     821342511|Zero Suit Samus a...|     Video Games|          4|            0|          0|   N|                Y|   Great but flawed.|Great amiibo, gre...| 2015-08-31|\n",
            "|         US|    2377552|R3AQQ4YUKJWBA6|B002UBI6W6|     328764615|Psyclone Recharge...|     Video Games|          1|            0|          0|   N|                Y|            One Star|The remote consta...| 2015-08-31|\n",
            "|         US|   17521011|R2F0POU5K6F73F|B008XHCLFO|      24234603|Protection for yo...|     Video Games|          5|            0|          0|   N|                Y|              A Must|I have a 2012-201...| 2015-08-31|\n",
            "|         US|   19676307|R3VNR804HYSMR6|B00BRA9R6A|     682267517|   Nerf 3DS XL Armor|     Video Games|          5|            0|          0|   N|                Y|          Five Stars|Perfect, kids lov...| 2015-08-31|\n",
            "|         US|     224068| R3GZTM72WA2QH|B009EPWJLA|     435241890|One Piece: Pirate...|     Video Games|          5|            0|          0|   N|                Y|          Five Stars|            Excelent| 2015-08-31|\n",
            "|         US|   48467989| RNQOY62705W1K|B0000AV7GB|     256572651|Playstation 2 Dan...|     Video Games|          4|            0|          0|   N|                Y|          Four Stars|Slippery but expe...| 2015-08-31|\n",
            "|         US|     106569|R1VTIA3JTYBY02|B00008KTNN|     384411423|Metal Arms: Glitc...|     Video Games|          5|            0|          0|   N|                N|          Five Stars|Love the game. Se...| 2015-08-31|\n",
            "|         US|   48269642|R29DOU8791QZL8|B000A3IA0Y|     472622859|72 Pin Connector ...|     Video Games|          1|            0|          0|   N|                Y| Game will get stuck|Does not fit prop...| 2015-08-31|\n",
            "|         US|   52738710|R15DUT1VIJ9RJZ|B0053BQN34|     577628462|uDraw Gametablet ...|     Video Games|          2|            0|          0|   N|                Y|We have tried it ...|This was way too ...| 2015-08-31|\n",
            "|         US|   10556786|R3IMF2MQ3OU9ZM|B002I0HIMI|     988218515|NBA 2K12(Covers M...|     Video Games|          4|            0|          0|   N|                Y|          Four Stars|Works great good ...| 2015-08-31|\n",
            "|         US|    2963837|R23H79DHOZTYAU|B0081EH12M|     770100932|New Trigger Grips...|     Video Games|          1|            1|          1|   N|                Y|Now i have to buy...|It did not fit th...| 2015-08-31|\n",
            "|         US|   23092109| RIV24EQAIXA4O|B005FMLZQQ|      24647669|Xbox 360 Media Re...|     Video Games|          5|            0|          0|   N|                Y|          Five Stars|perfect lightweig...| 2015-08-31|\n",
            "|         US|   23091728|R3UCNGYDVN24YB|B002BSA388|      33706205|Super Mario Galaxy 2|     Video Games|          5|            0|          0|   N|                Y|          Five Stars|               great| 2015-08-31|\n",
            "|         US|   10712640| RUL4H4XTTN2DY|B00BUSLSAC|     829667834|Nintendo 3DS XL -...|     Video Games|          5|            0|          0|   N|                Y|          Five Stars|Works beautifully...| 2015-08-31|\n",
            "|         US|   17455376|R20JF7Z4DHTNX5|B00KWF38AW|     110680188|Captain Toad:  Tr...|     Video Games|          5|            0|          0|   N|                Y|          Five Stars|Kids loved the ga...| 2015-08-31|\n",
            "|         US|   14754850|R2T1AJ5MFI2260|B00BRQJYA8|     616463426|Lego Batman 2: DC...|     Video Games|          4|            0|          0|   N|                Y|          Four Stars|           Goodngame| 2015-08-31|\n",
            "+-----------+-----------+--------------+----------+--------------+--------------------+----------------+-----------+-------------+-----------+----+-----------------+--------------------+--------------------+-----------+\n",
            "only showing top 20 rows\n",
            "\n"
          ]
        }
      ],
      "source": [
        "from pyspark import SparkFiles\n",
        "url = \"https://s3.amazonaws.com/amazon-reviews-pds/tsv/amazon_reviews_us_Video_Games_v1_00.tsv.gz\"\n",
        "spark.sparkContext.addFile(url)\n",
        "df = spark.read.csv(SparkFiles.get(\"amazon_reviews_us_Video_Games_v1_00.tsv.gz\"), sep=\"\\t\", header=True, inferSchema=True)\n",
        "df.show()"
      ]
    },
    {
      "cell_type": "code",
      "execution_count": null,
      "metadata": {
        "id": "CkdBhtKnQBKv"
      },
      "outputs": [],
      "source": [
        "# Import the pyspark sql functions \n"
      ]
    },
    {
      "cell_type": "code",
      "execution_count": null,
      "metadata": {
        "id": "e1a5KFaSZm5_"
      },
      "outputs": [],
      "source": [
        "# Write a function that creates a Spark DataFrame that contains the number of times a customer (customer_id) reviewed a product.\n",
        "# Have the function do the following:\n",
        "# Count the number of times each customer_id appears\n",
        "# Rename the count column \"customer_counts\"\n",
        "# Sort the \"customer_counts\" column in descending order.\n",
        "def customer_counts(df):\n"
      ]
    },
    {
      "cell_type": "code",
      "execution_count": null,
      "metadata": {
        "colab": {
          "base_uri": "https://localhost:8080/"
        },
        "id": "Z6gYG3k4TozC",
        "outputId": "75212c67-bcf2-4bd8-b348-ea6677acce45"
      },
      "outputs": [
        {
          "name": "stdout",
          "output_type": "stream",
          "text": [
            "+-----------+---------------+\n",
            "|customer_id|customer_counts|\n",
            "+-----------+---------------+\n",
            "|   52759271|            909|\n",
            "|   42418272|            856|\n",
            "|   45838740|            839|\n",
            "|   24846840|            614|\n",
            "|   24594001|            460|\n",
            "|   40955995|            459|\n",
            "|   48278407|            439|\n",
            "|   27364030|            361|\n",
            "|   30678701|            326|\n",
            "|   50648042|            301|\n",
            "|   14539589|            288|\n",
            "|   10541465|            271|\n",
            "|   38752775|            263|\n",
            "|   43092063|            257|\n",
            "|   45261621|            235|\n",
            "|   44603910|            233|\n",
            "|   14886512|            233|\n",
            "|   37687227|            226|\n",
            "|   10075230|            218|\n",
            "|   52239651|            214|\n",
            "+-----------+---------------+\n",
            "only showing top 20 rows\n",
            "\n"
          ]
        }
      ],
      "source": [
        "customer_counts(df)"
      ]
    },
    {
      "cell_type": "code",
      "execution_count": null,
      "metadata": {
        "id": "DB49qF7RcKin"
      },
      "outputs": [],
      "source": [
        "# Filter the original DataFrame for each star rating, then get the customer counts for each filtered DataFrame \n",
        "# by passing the filtered DataFrame into the `customer_counts()` function. "
      ]
    },
    {
      "cell_type": "code",
      "execution_count": null,
      "metadata": {
        "colab": {
          "base_uri": "https://localhost:8080/"
        },
        "id": "U1dcdmYWWtQV",
        "outputId": "f757b12d-357b-4687-e019-fa74d3ef4b82"
      },
      "outputs": [
        {
          "name": "stdout",
          "output_type": "stream",
          "text": [
            "+-----------+---------------+\n",
            "|customer_id|customer_counts|\n",
            "+-----------+---------------+\n",
            "|   27364030|            145|\n",
            "|   47956883|            122|\n",
            "|   41407731|            105|\n",
            "|   14000007|             96|\n",
            "|   14004441|             68|\n",
            "|   24846840|             65|\n",
            "|    2061605|             60|\n",
            "|   10541465|             56|\n",
            "|   11691516|             56|\n",
            "|   49047948|             45|\n",
            "|   44153355|             43|\n",
            "|   52340667|             41|\n",
            "|   13851096|             41|\n",
            "|   13833443|             40|\n",
            "|   44213519|             38|\n",
            "|   14539589|             38|\n",
            "|   38028007|             36|\n",
            "|   45838740|             33|\n",
            "|   50648042|             32|\n",
            "|   48297870|             27|\n",
            "+-----------+---------------+\n",
            "only showing top 20 rows\n",
            "\n"
          ]
        }
      ],
      "source": [
        "customer_counts(one_star_ratings)"
      ]
    },
    {
      "cell_type": "code",
      "execution_count": null,
      "metadata": {
        "colab": {
          "base_uri": "https://localhost:8080/"
        },
        "id": "Avol35YBYlLx",
        "outputId": "3d294707-95af-4e11-8fe5-40c163852582"
      },
      "outputs": [
        {
          "name": "stdout",
          "output_type": "stream",
          "text": [
            "+-----------+---------------+\n",
            "|customer_id|customer_counts|\n",
            "+-----------+---------------+\n",
            "|   45838740|            112|\n",
            "|   42418272|             59|\n",
            "|   24476167|             50|\n",
            "|   52759271|             45|\n",
            "|   50648042|             45|\n",
            "|   24846840|             43|\n",
            "|   30678701|             41|\n",
            "|   40955995|             38|\n",
            "|   52239651|             35|\n",
            "|   45261621|             32|\n",
            "|   35184137|             31|\n",
            "|   52340667|             28|\n",
            "|   18069510|             28|\n",
            "|   45184473|             25|\n",
            "|   52546571|             23|\n",
            "|   43341147|             22|\n",
            "|   12509444|             22|\n",
            "|   39576212|             21|\n",
            "|   41453170|             21|\n",
            "|   36613238|             19|\n",
            "+-----------+---------------+\n",
            "only showing top 20 rows\n",
            "\n"
          ]
        }
      ],
      "source": [
        "customer_counts(two_star_ratings)"
      ]
    },
    {
      "cell_type": "code",
      "execution_count": null,
      "metadata": {
        "colab": {
          "base_uri": "https://localhost:8080/"
        },
        "id": "wnUdkGSyYo9u",
        "outputId": "162d23f0-0338-4324-a71c-2718f4e26212"
      },
      "outputs": [
        {
          "name": "stdout",
          "output_type": "stream",
          "text": [
            "+-----------+---------------+\n",
            "|customer_id|customer_counts|\n",
            "+-----------+---------------+\n",
            "|   42418272|            271|\n",
            "|   45838740|            196|\n",
            "|   40955995|            139|\n",
            "|   52759271|            104|\n",
            "|   52239651|             91|\n",
            "|   30678701|             76|\n",
            "|   24476167|             70|\n",
            "|   45261621|             66|\n",
            "|   48278407|             64|\n",
            "|   24846840|             62|\n",
            "|   43092063|             49|\n",
            "|   41232243|             42|\n",
            "|   47039038|             41|\n",
            "|   52125818|             40|\n",
            "|   16919667|             37|\n",
            "|   10541465|             36|\n",
            "|   41545823|             36|\n",
            "|   41453170|             36|\n",
            "|   50374480|             34|\n",
            "|   45654033|             34|\n",
            "+-----------+---------------+\n",
            "only showing top 20 rows\n",
            "\n"
          ]
        }
      ],
      "source": [
        "customer_counts(three_star_ratings)"
      ]
    },
    {
      "cell_type": "code",
      "execution_count": null,
      "metadata": {
        "colab": {
          "base_uri": "https://localhost:8080/"
        },
        "id": "pQUTIXzfUTLg",
        "outputId": "427cc4e6-bc86-41a2-a7f1-fb2e557e0838"
      },
      "outputs": [
        {
          "name": "stdout",
          "output_type": "stream",
          "text": [
            "+-----------+---------------+\n",
            "|customer_id|customer_counts|\n",
            "+-----------+---------------+\n",
            "|   42418272|            451|\n",
            "|   45838740|            310|\n",
            "|   52759271|            295|\n",
            "|   40955995|            203|\n",
            "|   48278407|            159|\n",
            "|   24846840|            139|\n",
            "|   24594001|            111|\n",
            "|   43092063|            110|\n",
            "|   35184137|            100|\n",
            "|   30678701|             99|\n",
            "|    6010757|             88|\n",
            "|   38752775|             85|\n",
            "|   34164491|             78|\n",
            "|   37687227|             73|\n",
            "|   14886512|             70|\n",
            "|   52512615|             68|\n",
            "|   26131122|             66|\n",
            "|   38769516|             62|\n",
            "|   11020935|             56|\n",
            "|   51397176|             54|\n",
            "+-----------+---------------+\n",
            "only showing top 20 rows\n",
            "\n"
          ]
        }
      ],
      "source": [
        "customer_counts(four_star_ratings)"
      ]
    },
    {
      "cell_type": "code",
      "execution_count": null,
      "metadata": {
        "colab": {
          "base_uri": "https://localhost:8080/"
        },
        "id": "B6wJwG4lU3B4",
        "outputId": "153a33cd-583e-4f94-e4b8-e5483b1a156a"
      },
      "outputs": [
        {
          "name": "stdout",
          "output_type": "stream",
          "text": [
            "+-----------+---------------+\n",
            "|customer_id|customer_counts|\n",
            "+-----------+---------------+\n",
            "|   52759271|            457|\n",
            "|   24846840|            305|\n",
            "|   24594001|            304|\n",
            "|   14539589|            224|\n",
            "|   44603910|            212|\n",
            "|   10075230|            211|\n",
            "|   48278407|            192|\n",
            "|   45838740|            188|\n",
            "|   39984534|            186|\n",
            "|   27364030|            171|\n",
            "|   38752775|            167|\n",
            "|   50648042|            146|\n",
            "|   14886512|            138|\n",
            "|   26368811|            132|\n",
            "|   37687227|            127|\n",
            "|   10541465|            126|\n",
            "|   15913633|            122|\n",
            "|   15506517|            116|\n",
            "|    2335562|            112|\n",
            "|   28366355|            111|\n",
            "+-----------+---------------+\n",
            "only showing top 20 rows\n",
            "\n"
          ]
        }
      ],
      "source": [
        "customer_counts(five_star_ratings)"
      ]
    },
    {
      "cell_type": "code",
      "execution_count": null,
      "metadata": {
        "id": "LiT4-a8JK82V"
      },
      "outputs": [],
      "source": []
    }
  ],
  "metadata": {
    "colab": {
      "collapsed_sections": [],
      "provenance": [],
      "include_colab_link": true
    },
    "kernelspec": {
      "display_name": "Python 3.9.6 64-bit",
      "language": "python",
      "name": "python3"
    },
    "language_info": {
      "codemirror_mode": {
        "name": "ipython",
        "version": 3
      },
      "file_extension": ".py",
      "mimetype": "text/x-python",
      "name": "python",
      "nbconvert_exporter": "python",
      "pygments_lexer": "ipython3",
      "version": "3.9.6"
    },
    "vscode": {
      "interpreter": {
        "hash": "aee8b7b246df8f9039afb4144a1f6fd8d2ca17a180786b69acc140d282b71a49"
      }
    }
  },
  "nbformat": 4,
  "nbformat_minor": 0
}